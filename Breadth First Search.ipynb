{
 "cells": [
  {
   "cell_type": "code",
   "execution_count": 38,
   "id": "72b7cb18-3ed0-4ddf-8e6e-bf0c4b1775d6",
   "metadata": {},
   "outputs": [],
   "source": [
    "def bfs(graph, start_node, end_node):\n",
    "\n",
    "    solution = []\n",
    "    costs = 0\n",
    "\n",
    "    frontier = []\n",
    "    visited = []\n",
    "\n",
    "    frontier.append(start_node)\n",
    "    visited.append(start_node)\n",
    "\n",
    "    while frontier:\n",
    "\n",
    "        selected_node = frontier.pop(0)\n",
    "\n",
    "        if selected_node == end_node:\n",
    "            solution.append(selected_node)\n",
    "            break\n",
    "        \n",
    "        solution.append(selected_node)\n",
    "\n",
    "        for neighbour in graph[selected_node]:\n",
    "            if neighbour not in visited:\n",
    "                frontier.append(neighbour)\n",
    "                visited.append(neighbour)\n",
    "\n",
    "        costs += 1\n",
    "\n",
    "    return solution, costs"
   ]
  },
  {
   "cell_type": "code",
   "execution_count": 39,
   "id": "f927bd4e-74da-4747-aca7-ba058e96aeb2",
   "metadata": {},
   "outputs": [],
   "source": [
    "state_space = {\n",
    "    \"A\": [\"B\"],\n",
    "    \"B\": [\"C\"],\n",
    "    \"C\": [\"D\", \"G\"],\n",
    "    \"D\": [\"E\"],\n",
    "    \"E\": [\"F\"],\n",
    "    \"F\": [],\n",
    "    \"G\": [\"H\"],\n",
    "    \"H\": [\"K\", \"I\"],\n",
    "    \"K\": [\"L\"],\n",
    "    \"L\": [\"M\"],\n",
    "    \"M\": [\"N\"],\n",
    "    \"N\": [],\n",
    "    \"I\": [\"J\"],\n",
    "    \"J\": [],\n",
    "}\n",
    "\n",
    "start_state = \"A\"\n",
    "\n",
    "goal_state = \"N\""
   ]
  },
  {
   "cell_type": "code",
   "execution_count": 40,
   "id": "1edaccde-50d4-4913-b821-7ea896306f36",
   "metadata": {},
   "outputs": [
    {
     "name": "stdout",
     "output_type": "stream",
     "text": [
      "Solution: ['A', 'B', 'C', 'D', 'G', 'E', 'H', 'F', 'K', 'I', 'L', 'J', 'M', 'N']\n",
      "Costs: 13\n"
     ]
    }
   ],
   "source": [
    "solution, costs = bfs(state_space, start_state, goal_state)\n",
    "\n",
    "print(\"Solution: {}\".format(solution))\n",
    "print(\"Costs: {}\".format(costs))"
   ]
  }
 ],
 "metadata": {
  "kernelspec": {
   "display_name": "Python 3 (ipykernel)",
   "language": "python",
   "name": "python3"
  },
  "language_info": {
   "codemirror_mode": {
    "name": "ipython",
    "version": 3
   },
   "file_extension": ".py",
   "mimetype": "text/x-python",
   "name": "python",
   "nbconvert_exporter": "python",
   "pygments_lexer": "ipython3",
   "version": "3.10.12"
  }
 },
 "nbformat": 4,
 "nbformat_minor": 5
}
